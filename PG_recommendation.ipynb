{
 "cells": [
  {
   "cell_type": "markdown",
   "id": "005aeec7",
   "metadata": {},
   "source": [
    "# PG RECOMMENDATION APP\n",
    "## DEVELOPED BY MD SHAD KHAN"
   ]
  },
  {
   "cell_type": "markdown",
   "id": "35be1646",
   "metadata": {},
   "source": [
    "### Step 1: Import Libraries\n",
    "\n",
    "Importing all required libraries for data handling, visualization, and machine learning.\n"
   ]
  },
  {
   "cell_type": "code",
   "execution_count": 32,
   "id": "2044e8a3",
   "metadata": {},
   "outputs": [],
   "source": [
    "# Data Handling & Manipulation\n",
    "import pandas as pd\n",
    "import numpy as np\n",
    "\n",
    "# Data Visualization\n",
    "import matplotlib.pyplot as plt\n",
    "import seaborn as sns\n",
    "\n",
    "# Preprocessing\n",
    "from sklearn.preprocessing import LabelEncoder, MinMaxScaler\n",
    "from sklearn.impute import SimpleImputer\n",
    "\n",
    "# Similarity & Neighbors\n",
    "from sklearn.metrics.pairwise import cosine_similarity\n",
    "from sklearn.neighbors import NearestNeighbors\n",
    "\n",
    "# Clustering\n",
    "from sklearn.cluster import KMeans\n",
    "\n",
    "# Supervised ML Models\n",
    "from sklearn.model_selection import train_test_split\n",
    "from sklearn.linear_model import LinearRegression\n",
    "from sklearn.ensemble import RandomForestRegressor\n",
    "from sklearn.metrics import mean_squared_error, mean_absolute_error, r2_score"
   ]
  },
  {
   "cell_type": "markdown",
   "id": "f4a70d24",
   "metadata": {},
   "source": [
    "### Step 2: Load the Dataset\n",
    "\n",
    "We’ll now load the PG dataset using pandas and take a quick look at the first few rows.\n"
   ]
  },
  {
   "cell_type": "code",
   "execution_count": 33,
   "id": "4284df62",
   "metadata": {},
   "outputs": [
    {
     "data": {
      "text/html": [
       "<div>\n",
       "<style scoped>\n",
       "    .dataframe tbody tr th:only-of-type {\n",
       "        vertical-align: middle;\n",
       "    }\n",
       "\n",
       "    .dataframe tbody tr th {\n",
       "        vertical-align: top;\n",
       "    }\n",
       "\n",
       "    .dataframe thead th {\n",
       "        text-align: right;\n",
       "    }\n",
       "</style>\n",
       "<table border=\"1\" class=\"dataframe\">\n",
       "  <thead>\n",
       "    <tr style=\"text-align: right;\">\n",
       "      <th></th>\n",
       "      <th>PG_Name</th>\n",
       "      <th>Location</th>\n",
       "      <th>Price</th>\n",
       "      <th>Gender_Preference</th>\n",
       "      <th>WiFi</th>\n",
       "      <th>Food</th>\n",
       "      <th>AC</th>\n",
       "      <th>Laundry</th>\n",
       "      <th>Parking</th>\n",
       "      <th>Security</th>\n",
       "      <th>Rating</th>\n",
       "      <th>Contact</th>\n",
       "      <th>Distance_to_Metro(km)</th>\n",
       "    </tr>\n",
       "  </thead>\n",
       "  <tbody>\n",
       "    <tr>\n",
       "      <th>0</th>\n",
       "      <td>StayEase PG</td>\n",
       "      <td>Pitampura</td>\n",
       "      <td>7720</td>\n",
       "      <td>Women-only</td>\n",
       "      <td>Yes</td>\n",
       "      <td>No</td>\n",
       "      <td>Yes</td>\n",
       "      <td>Yes</td>\n",
       "      <td>Yes</td>\n",
       "      <td>No</td>\n",
       "      <td>4.6</td>\n",
       "      <td>9876549788</td>\n",
       "      <td>1.3</td>\n",
       "    </tr>\n",
       "    <tr>\n",
       "      <th>1</th>\n",
       "      <td>CityNest</td>\n",
       "      <td>Dwarka</td>\n",
       "      <td>10667</td>\n",
       "      <td>Women-only</td>\n",
       "      <td>Yes</td>\n",
       "      <td>Yes</td>\n",
       "      <td>No</td>\n",
       "      <td>No</td>\n",
       "      <td>Yes</td>\n",
       "      <td>Yes</td>\n",
       "      <td>4.9</td>\n",
       "      <td>9876543553</td>\n",
       "      <td>2.3</td>\n",
       "    </tr>\n",
       "    <tr>\n",
       "      <th>2</th>\n",
       "      <td>Elite Rooms</td>\n",
       "      <td>Pitampura</td>\n",
       "      <td>12927</td>\n",
       "      <td>Men-only</td>\n",
       "      <td>No</td>\n",
       "      <td>Yes</td>\n",
       "      <td>No</td>\n",
       "      <td>Yes</td>\n",
       "      <td>Yes</td>\n",
       "      <td>Yes</td>\n",
       "      <td>4.6</td>\n",
       "      <td>9876562534</td>\n",
       "      <td>2.1</td>\n",
       "    </tr>\n",
       "    <tr>\n",
       "      <th>3</th>\n",
       "      <td>CityNest</td>\n",
       "      <td>Gurugram Sector 14</td>\n",
       "      <td>6822</td>\n",
       "      <td>Unisex</td>\n",
       "      <td>Yes</td>\n",
       "      <td>Yes</td>\n",
       "      <td>Yes</td>\n",
       "      <td>Yes</td>\n",
       "      <td>Yes</td>\n",
       "      <td>No</td>\n",
       "      <td>4.7</td>\n",
       "      <td>9876533794</td>\n",
       "      <td>2.6</td>\n",
       "    </tr>\n",
       "    <tr>\n",
       "      <th>4</th>\n",
       "      <td>BudgetStay</td>\n",
       "      <td>Rohini</td>\n",
       "      <td>11667</td>\n",
       "      <td>Unisex</td>\n",
       "      <td>Yes</td>\n",
       "      <td>Yes</td>\n",
       "      <td>Yes</td>\n",
       "      <td>Yes</td>\n",
       "      <td>No</td>\n",
       "      <td>No</td>\n",
       "      <td>4.0</td>\n",
       "      <td>9876576773</td>\n",
       "      <td>4.1</td>\n",
       "    </tr>\n",
       "  </tbody>\n",
       "</table>\n",
       "</div>"
      ],
      "text/plain": [
       "       PG_Name            Location  Price Gender_Preference WiFi Food   AC  \\\n",
       "0  StayEase PG           Pitampura   7720        Women-only  Yes   No  Yes   \n",
       "1     CityNest              Dwarka  10667        Women-only  Yes  Yes   No   \n",
       "2  Elite Rooms           Pitampura  12927          Men-only   No  Yes   No   \n",
       "3     CityNest  Gurugram Sector 14   6822            Unisex  Yes  Yes  Yes   \n",
       "4   BudgetStay              Rohini  11667            Unisex  Yes  Yes  Yes   \n",
       "\n",
       "  Laundry Parking Security  Rating     Contact  Distance_to_Metro(km)  \n",
       "0     Yes     Yes       No     4.6  9876549788                    1.3  \n",
       "1      No     Yes      Yes     4.9  9876543553                    2.3  \n",
       "2     Yes     Yes      Yes     4.6  9876562534                    2.1  \n",
       "3     Yes     Yes       No     4.7  9876533794                    2.6  \n",
       "4     Yes      No       No     4.0  9876576773                    4.1  "
      ]
     },
     "execution_count": 33,
     "metadata": {},
     "output_type": "execute_result"
    }
   ],
   "source": [
    "# Load the dataset\n",
    "df = pd.read_csv(\"sample_pg_data.csv\")\n",
    "\n",
    "# Display the first 5 rows\n",
    "df.head()\n"
   ]
  },
  {
   "cell_type": "markdown",
   "id": "8caa9605",
   "metadata": {},
   "source": [
    "### Step 3: Basic Data Overview\n",
    "\n",
    "Let’s check the shape of the dataset, data types, summary statistics, and any missing values.\n"
   ]
  },
  {
   "cell_type": "code",
   "execution_count": 34,
   "id": "c304a16c",
   "metadata": {},
   "outputs": [
    {
     "name": "stdout",
     "output_type": "stream",
     "text": [
      "Shape of dataset: (200, 13)\n",
      "\n",
      "Dataset Info:\n",
      "<class 'pandas.core.frame.DataFrame'>\n",
      "RangeIndex: 200 entries, 0 to 199\n",
      "Data columns (total 13 columns):\n",
      " #   Column                 Non-Null Count  Dtype  \n",
      "---  ------                 --------------  -----  \n",
      " 0   PG_Name                200 non-null    object \n",
      " 1   Location               200 non-null    object \n",
      " 2   Price                  200 non-null    int64  \n",
      " 3   Gender_Preference      200 non-null    object \n",
      " 4   WiFi                   200 non-null    object \n",
      " 5   Food                   200 non-null    object \n",
      " 6   AC                     200 non-null    object \n",
      " 7   Laundry                200 non-null    object \n",
      " 8   Parking                200 non-null    object \n",
      " 9   Security               200 non-null    object \n",
      " 10  Rating                 200 non-null    float64\n",
      " 11  Contact                200 non-null    int64  \n",
      " 12  Distance_to_Metro(km)  200 non-null    float64\n",
      "dtypes: float64(2), int64(2), object(9)\n",
      "memory usage: 20.4+ KB\n",
      "None\n",
      "\n",
      "Summary Statistics:\n",
      "           PG_Name   Location         Price Gender_Preference WiFi Food   AC  \\\n",
      "count          200        200    200.000000               200  200  200  200   \n",
      "unique          10         10           NaN                 3    2    2    2   \n",
      "top     BudgetStay  Pitampura           NaN          Men-only  Yes  Yes  Yes   \n",
      "freq            25         26           NaN                79  116  104  107   \n",
      "mean           NaN        NaN  10588.105000               NaN  NaN  NaN  NaN   \n",
      "std            NaN        NaN   2643.735619               NaN  NaN  NaN  NaN   \n",
      "min            NaN        NaN   6013.000000               NaN  NaN  NaN  NaN   \n",
      "25%            NaN        NaN   8289.000000               NaN  NaN  NaN  NaN   \n",
      "50%            NaN        NaN  10701.000000               NaN  NaN  NaN  NaN   \n",
      "75%            NaN        NaN  12945.250000               NaN  NaN  NaN  NaN   \n",
      "max            NaN        NaN  14962.000000               NaN  NaN  NaN  NaN   \n",
      "\n",
      "       Laundry Parking Security      Rating       Contact  \\\n",
      "count      200     200      200  200.000000  2.000000e+02   \n",
      "unique       2       2        2         NaN           NaN   \n",
      "top         No     Yes       No         NaN           NaN   \n",
      "freq       108     110      115         NaN           NaN   \n",
      "mean       NaN     NaN      NaN    4.006500  9.876552e+09   \n",
      "std        NaN     NaN      NaN    0.595973  2.954813e+04   \n",
      "min        NaN     NaN      NaN    3.000000  9.876502e+09   \n",
      "25%        NaN     NaN      NaN    3.475000  9.876524e+09   \n",
      "50%        NaN     NaN      NaN    4.000000  9.876552e+09   \n",
      "75%        NaN     NaN      NaN    4.500000  9.876577e+09   \n",
      "max        NaN     NaN      NaN    5.000000  9.876600e+09   \n",
      "\n",
      "        Distance_to_Metro(km)  \n",
      "count              200.000000  \n",
      "unique                    NaN  \n",
      "top                       NaN  \n",
      "freq                      NaN  \n",
      "mean                 2.612000  \n",
      "std                  1.441508  \n",
      "min                  0.200000  \n",
      "25%                  1.375000  \n",
      "50%                  2.700000  \n",
      "75%                  3.825000  \n",
      "max                  5.000000  \n",
      "\n",
      "Missing Values in Each Column:\n",
      "PG_Name                  0\n",
      "Location                 0\n",
      "Price                    0\n",
      "Gender_Preference        0\n",
      "WiFi                     0\n",
      "Food                     0\n",
      "AC                       0\n",
      "Laundry                  0\n",
      "Parking                  0\n",
      "Security                 0\n",
      "Rating                   0\n",
      "Contact                  0\n",
      "Distance_to_Metro(km)    0\n",
      "dtype: int64\n"
     ]
    }
   ],
   "source": [
    "# Shape of the dataset\n",
    "print(\"Shape of dataset:\", df.shape)\n",
    "\n",
    "# Column data types and non-null counts\n",
    "print(\"\\nDataset Info:\")\n",
    "print(df.info())\n",
    "\n",
    "# Summary statistics for numeric and categorical columns\n",
    "print(\"\\nSummary Statistics:\")\n",
    "print(df.describe(include='all'))\n",
    "\n",
    "# Check for missing values\n",
    "print(\"\\nMissing Values in Each Column:\")\n",
    "print(df.isnull().sum())\n"
   ]
  },
  {
   "cell_type": "markdown",
   "id": "f24c998d",
   "metadata": {},
   "source": [
    "### Step 4: Exploratory Data Analysis (EDA)\n",
    "\n",
    "Now we’ll explore the dataset to understand the distribution of features, relationships between variables, and patterns in the data.\n"
   ]
  },
  {
   "cell_type": "code",
   "execution_count": 35,
   "id": "76a6b328",
   "metadata": {},
   "outputs": [
    {
     "name": "stdout",
     "output_type": "stream",
     "text": [
      "Unique values per column:\n",
      "\n",
      "PG_Name: 10\n",
      "Location: 10\n",
      "Price: 199\n",
      "Gender_Preference: 3\n",
      "WiFi: 2\n",
      "Food: 2\n",
      "AC: 2\n",
      "Laundry: 2\n",
      "Parking: 2\n",
      "Security: 2\n",
      "Rating: 21\n",
      "Contact: 199\n",
      "Distance_to_Metro(km): 48\n"
     ]
    }
   ],
   "source": [
    "# Check unique values in each column (especially for categorical ones)\n",
    "print(\"Unique values per column:\\n\")\n",
    "for col in df.columns:\n",
    "    print(f\"{col}: {df[col].nunique()}\")"
   ]
  },
  {
   "cell_type": "code",
   "execution_count": 36,
   "id": "d8ec2869",
   "metadata": {},
   "outputs": [
    {
     "data": {
      "image/png": "[encoded data removed]",
      "text/plain": [
       "<Figure size 800x500 with 1 Axes>"
      ]
     },
     "metadata": {},
     "output_type": "display_data"
    }
   ],
   "source": [
    "# Plot distribution of price\n",
    "plt.figure(figsize=(8, 5))\n",
    "sns.histplot(df['Price'], kde=True)\n",
    "plt.title(\"Distribution of PG Prices\")\n",
    "plt.xlabel(\"Price (₹)\")\n",
    "plt.ylabel(\"Count\")\n",
    "plt.show()"
   ]
  },
  {
   "cell_type": "code",
   "execution_count": 37,
   "id": "c9426c1e",
   "metadata": {},
   "outputs": [
    {
     "data": {
      "image/png": "[encoded data removed]",
      "text/plain": [
       "<Figure size 600x400 with 1 Axes>"
      ]
     },
     "metadata": {},
     "output_type": "display_data"
    }
   ],
   "source": [
    "# Countplot for Gender Preference\n",
    "plt.figure(figsize=(6, 4))\n",
    "sns.countplot(x='Gender_Preference', data=df)\n",
    "plt.title(\"Gender Preference Distribution\")\n",
    "plt.xlabel(\"Gender Preference\")\n",
    "plt.ylabel(\"Count\")\n",
    "plt.show()"
   ]
  },
  {
   "cell_type": "code",
   "execution_count": 38,
   "id": "c8bbe37c",
   "metadata": {},
   "outputs": [
    {
     "data": {
      "image/png": "[encoded data removed]",
      "text/plain": [
       "<Figure size 1000x600 with 2 Axes>"
      ]
     },
     "metadata": {},
     "output_type": "display_data"
    }
   ],
   "source": [
    "# Correlation heatmap (for numeric features)\n",
    "plt.figure(figsize=(10, 6))\n",
    "sns.heatmap(df.corr(numeric_only=True), annot=True, cmap=\"Blues\")\n",
    "plt.title(\"Correlation Heatmap\")\n",
    "plt.show()"
   ]
  },
  {
   "cell_type": "markdown",
   "id": "453eb597",
   "metadata": {},
   "source": [
    "### Step 5: Data Preprocessing\n",
    "\n",
    "In this step, we handle categorical variables, encode binary features, scale numerical data, and prepare the dataset for machine learning models.\n"
   ]
  },
  {
   "cell_type": "code",
   "execution_count": 39,
   "id": "ba535fd3",
   "metadata": {},
   "outputs": [
    {
     "data": {
      "text/html": [
       "<div>\n",
       "<style scoped>\n",
       "    .dataframe tbody tr th:only-of-type {\n",
       "        vertical-align: middle;\n",
       "    }\n",
       "\n",
       "    .dataframe tbody tr th {\n",
       "        vertical-align: top;\n",
       "    }\n",
       "\n",
       "    .dataframe thead th {\n",
       "        text-align: right;\n",
       "    }\n",
       "</style>\n",
       "<table border=\"1\" class=\"dataframe\">\n",
       "  <thead>\n",
       "    <tr style=\"text-align: right;\">\n",
       "      <th></th>\n",
       "      <th>Location</th>\n",
       "      <th>Price</th>\n",
       "      <th>Gender_Preference</th>\n",
       "      <th>WiFi</th>\n",
       "      <th>Food</th>\n",
       "      <th>AC</th>\n",
       "      <th>Laundry</th>\n",
       "      <th>Parking</th>\n",
       "      <th>Security</th>\n",
       "      <th>Rating</th>\n",
       "      <th>Distance_to_Metro(km)</th>\n",
       "    </tr>\n",
       "  </thead>\n",
       "  <tbody>\n",
       "    <tr>\n",
       "      <th>0</th>\n",
       "      <td>0.666667</td>\n",
       "      <td>0.190748</td>\n",
       "      <td>1.0</td>\n",
       "      <td>1.0</td>\n",
       "      <td>0.0</td>\n",
       "      <td>1.0</td>\n",
       "      <td>1.0</td>\n",
       "      <td>1.0</td>\n",
       "      <td>0.0</td>\n",
       "      <td>0.80</td>\n",
       "      <td>0.229167</td>\n",
       "    </tr>\n",
       "    <tr>\n",
       "      <th>1</th>\n",
       "      <td>0.222222</td>\n",
       "      <td>0.520058</td>\n",
       "      <td>1.0</td>\n",
       "      <td>1.0</td>\n",
       "      <td>1.0</td>\n",
       "      <td>0.0</td>\n",
       "      <td>0.0</td>\n",
       "      <td>1.0</td>\n",
       "      <td>1.0</td>\n",
       "      <td>0.95</td>\n",
       "      <td>0.437500</td>\n",
       "    </tr>\n",
       "    <tr>\n",
       "      <th>2</th>\n",
       "      <td>0.666667</td>\n",
       "      <td>0.772600</td>\n",
       "      <td>0.0</td>\n",
       "      <td>0.0</td>\n",
       "      <td>1.0</td>\n",
       "      <td>0.0</td>\n",
       "      <td>1.0</td>\n",
       "      <td>1.0</td>\n",
       "      <td>1.0</td>\n",
       "      <td>0.80</td>\n",
       "      <td>0.395833</td>\n",
       "    </tr>\n",
       "    <tr>\n",
       "      <th>3</th>\n",
       "      <td>0.333333</td>\n",
       "      <td>0.090401</td>\n",
       "      <td>0.5</td>\n",
       "      <td>1.0</td>\n",
       "      <td>1.0</td>\n",
       "      <td>1.0</td>\n",
       "      <td>1.0</td>\n",
       "      <td>1.0</td>\n",
       "      <td>0.0</td>\n",
       "      <td>0.85</td>\n",
       "      <td>0.500000</td>\n",
       "    </tr>\n",
       "    <tr>\n",
       "      <th>4</th>\n",
       "      <td>0.777778</td>\n",
       "      <td>0.631802</td>\n",
       "      <td>0.5</td>\n",
       "      <td>1.0</td>\n",
       "      <td>1.0</td>\n",
       "      <td>1.0</td>\n",
       "      <td>1.0</td>\n",
       "      <td>0.0</td>\n",
       "      <td>0.0</td>\n",
       "      <td>0.50</td>\n",
       "      <td>0.812500</td>\n",
       "    </tr>\n",
       "  </tbody>\n",
       "</table>\n",
       "</div>"
      ],
      "text/plain": [
       "   Location     Price  Gender_Preference  WiFi  Food   AC  Laundry  Parking  \\\n",
       "0  0.666667  0.190748                1.0   1.0   0.0  1.0      1.0      1.0   \n",
       "1  0.222222  0.520058                1.0   1.0   1.0  0.0      0.0      1.0   \n",
       "2  0.666667  0.772600                0.0   0.0   1.0  0.0      1.0      1.0   \n",
       "3  0.333333  0.090401                0.5   1.0   1.0  1.0      1.0      1.0   \n",
       "4  0.777778  0.631802                0.5   1.0   1.0  1.0      1.0      0.0   \n",
       "\n",
       "   Security  Rating  Distance_to_Metro(km)  \n",
       "0       0.0    0.80               0.229167  \n",
       "1       1.0    0.95               0.437500  \n",
       "2       1.0    0.80               0.395833  \n",
       "3       0.0    0.85               0.500000  \n",
       "4       0.0    0.50               0.812500  "
      ]
     },
     "execution_count": 39,
     "metadata": {},
     "output_type": "execute_result"
    }
   ],
   "source": [
    "from sklearn.preprocessing import LabelEncoder, MinMaxScaler\n",
    "import joblib\n",
    "import os\n",
    "\n",
    "# Copy original dataset for processing\n",
    "data = df.copy()\n",
    "\n",
    "# Create folder for encoders\n",
    "os.makedirs('encoders', exist_ok=True)\n",
    "\n",
    "# Encode binary categorical columns (Yes/No → 1/0)\n",
    "binary_cols = ['WiFi', 'Food', 'AC', 'Laundry', 'Parking', 'Security']\n",
    "for col in binary_cols:\n",
    "    data[col] = data[col].map({'Yes': 1, 'No': 0})\n",
    "\n",
    "# Save binary mapping for consistency (optional)\n",
    "joblib.dump({'Yes': 1, 'No': 0}, 'encoders/binary_mapping.pkl')\n",
    "\n",
    "# Encode Gender_Preference using LabelEncoder and save\n",
    "le_gender = LabelEncoder()\n",
    "data['Gender_Preference'] = le_gender.fit_transform(data['Gender_Preference'])\n",
    "joblib.dump(le_gender, 'encoders/Gender_Preference_encoder.pkl')\n",
    "\n",
    "# Encode Location using LabelEncoder and save\n",
    "le_location = LabelEncoder()\n",
    "data['Location'] = le_location.fit_transform(data['Location'])\n",
    "joblib.dump(le_location, 'encoders/Location_encoder.pkl')\n",
    "\n",
    "# Drop non-useful columns for model input\n",
    "data_model = data.drop(['PG_Name', 'Contact'], axis=1)\n",
    "\n",
    "# Scale numeric features and save the scaler\n",
    "scaler = MinMaxScaler()\n",
    "data_scaled = pd.DataFrame(scaler.fit_transform(data_model), columns=data_model.columns)\n",
    "joblib.dump(scaler, 'encoders/scaler.pkl')\n",
    "\n",
    "# Final look\n",
    "data_scaled.head()\n",
    "\n"
   ]
  },
  {
   "cell_type": "markdown",
   "id": "8c59c294",
   "metadata": {},
   "source": [
    "### Step 6: Choosing Recommendation Technique\n",
    "\n",
    "We’ll use a **content-based filtering approach** that recommends PGs similar to user preferences using cosine similarity. This works well when we have PG features but no past user interaction data.\n"
   ]
  },
  {
   "cell_type": "code",
   "execution_count": 40,
   "id": "6ae214ec",
   "metadata": {},
   "outputs": [
    {
     "name": "stdout",
     "output_type": "stream",
     "text": [
      "\n",
      "PG Selected: StayEase PG\n",
      "Top Recommended PGs:\n",
      "Cosy Homes (Score: 0.93) — ₹6348 | Connaught Place\n",
      "CityNest (Score: 0.93) — ₹7045 | Gurugram Sector 14\n",
      "StayEase PG (Score: 0.93) — ₹11013 | Rohini\n",
      "Elite Rooms (Score: 0.91) — ₹8296 | Connaught Place\n",
      "BudgetStay (Score: 0.9) — ₹9448 | Rohini\n"
     ]
    }
   ],
   "source": [
    "# Calculate cosine similarity matrix\n",
    "similarity = cosine_similarity(data_scaled)\n",
    "\n",
    "# Create a function to recommend similar PGs\n",
    "def recommend_pg(index, top_n=5):\n",
    "    print(f\"\\nPG Selected: {df.iloc[index]['PG_Name']}\")\n",
    "    print(\"Top Recommended PGs:\")\n",
    "    \n",
    "    # Get similarity scores\n",
    "    sim_scores = list(enumerate(similarity[index]))\n",
    "    \n",
    "    # Sort based on similarity scores (excluding the same PG)\n",
    "    sim_scores = sorted(sim_scores, key=lambda x: x[1], reverse=True)[1:top_n+1]\n",
    "    \n",
    "    for i, score in sim_scores:\n",
    "        print(f\"{df.iloc[i]['PG_Name']} (Score: {round(score, 2)}) — ₹{df.iloc[i]['Price']} | {df.iloc[i]['Location']}\")\n",
    "\n",
    "# Try recommending PGs similar to the 0th PG in the dataset\n",
    "recommend_pg(0)\n"
   ]
  },
  {
   "cell_type": "markdown",
   "id": "2a2a00c3",
   "metadata": {},
   "source": [
    "### Step 7: (Optional) Price Prediction Model\n",
    "\n",
    "In this step, we build a regression model to predict the price of a PG based on its features, such as location, amenities, and gender preference. This can enhance the recommendation system by providing price-based ranking.\n"
   ]
  },
  {
   "cell_type": "code",
   "execution_count": 41,
   "id": "4f7cbe05",
   "metadata": {},
   "outputs": [
    {
     "name": "stdout",
     "output_type": "stream",
     "text": [
      "Mean Absolute Error: 2352.65225\n",
      "Mean Squared Error: 7601914.8584875\n",
      "Root Mean Squared Error: 2757.1570246337983\n",
      "R2 Score: -0.1814894348892917\n"
     ]
    }
   ],
   "source": [
    "# Prepare data for regression (predicting 'Price')\n",
    "X = data_scaled.drop('Price', axis=1)  # Features\n",
    "y = data['Price']  # Target (Price)\n",
    "\n",
    "# Split the data into training and testing sets\n",
    "X_train, X_test, y_train, y_test = train_test_split(X, y, test_size=0.2, random_state=42)\n",
    "\n",
    "# Initialize the Random Forest Regressor model\n",
    "model = RandomForestRegressor(n_estimators=100, random_state=42)\n",
    "\n",
    "# Train the model\n",
    "model.fit(X_train, y_train)\n",
    "\n",
    "# Predict prices for the test set\n",
    "y_pred = model.predict(X_test)\n",
    "\n",
    "# Evaluate the model\n",
    "mae = mean_absolute_error(y_test, y_pred)\n",
    "mse = mean_squared_error(y_test, y_pred)\n",
    "rmse = np.sqrt(mse)\n",
    "r2 = r2_score(y_test, y_pred)\n",
    "\n",
    "print(f\"Mean Absolute Error: {mae}\")\n",
    "print(f\"Mean Squared Error: {mse}\")\n",
    "print(f\"Root Mean Squared Error: {rmse}\")\n",
    "print(f\"R2 Score: {r2}\")\n"
   ]
  },
  {
   "cell_type": "code",
   "execution_count": 42,
   "id": "a9e5c6f0",
   "metadata": {},
   "outputs": [
    {
     "data": {
      "text/plain": [
       "['pg_model.pkl']"
      ]
     },
     "execution_count": 42,
     "metadata": {},
     "output_type": "execute_result"
    }
   ],
   "source": [
    "import joblib\n",
    "\n",
    "# Replace `model` with your actual model variable name\n",
    "joblib.dump(model, 'pg_model.pkl')\n"
   ]
  }
 ],
 "metadata": {
  "kernelspec": {
   "display_name": "Python 3",
   "language": "python",
   "name": "python3"
  },
  "language_info": {
   "codemirror_mode": {
    "name": "ipython",
    "version": 3
   },
   "file_extension": ".py",
   "mimetype": "text/x-python",
   "name": "python",
   "nbconvert_exporter": "python",
   "pygments_lexer": "ipython3",
   "version": "3.11.2"
  }
 },
 "nbformat": 4,
 "nbformat_minor": 5
}
